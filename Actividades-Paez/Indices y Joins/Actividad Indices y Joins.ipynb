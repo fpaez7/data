{
 "cells": [
  {
   "cell_type": "markdown",
   "metadata": {},
   "source": [
    "# Índices en Python\n",
    "\n",
    "Primero definimos nuestras tablas (esto va a venir de un `.csv`). En este ejemplo tenemos una tabla de **Personas**, otra de **Proyectos** y una relación entre ambas entidades. Cabe destacar que una persona puede trabajar en 0 o 1 proyecto, pero un proyecto puede tener más de una persona."
   ]
  },
  {
   "cell_type": "code",
   "execution_count": 4,
   "metadata": {},
   "outputs": [],
   "source": [
    "Personas = [\n",
    "    (1, 'Persona 1'),\n",
    "    (5, 'Persona 5'),\n",
    "    (2, 'Persona 2'),\n",
    "    (3, 'Persona 3'),\n",
    "    (10, 'Persona 10'),\n",
    "    (4, 'Persona 4'),\n",
    "    (6, 'Persona 6'),\n",
    "]\n",
    "\n",
    "Proyectos = [\n",
    "    (1, 'Proyecto 1'),\n",
    "    (2, 'Proyecto 2'),\n",
    "    (3, 'Proyecto 3'),\n",
    "]\n",
    "\n",
    "# Formato (id_persona, id_proyecto)\n",
    "Persona_Proyecto = [\n",
    "    (1, 1),\n",
    "    (2, 3),\n",
    "    (10, 1),\n",
    "    (5, 2),\n",
    "    (6, 2),\n",
    "]"
   ]
  },
  {
   "cell_type": "markdown",
   "metadata": {},
   "source": [
    "Vamos a ingresar a las personas a un BTree, pero necesitamos encadenar las hojas. Por lo mismo vamos a crear un objeto `NodoBTree`.\n",
    "\n",
    "Para utilizar un Btree, utilizaremos la librería `BTrees`. Puedes ver la documentación de la librería aquí https://pythonhosted.org/BTrees/"
   ]
  },
  {
   "cell_type": "code",
   "execution_count": 5,
   "metadata": {},
   "outputs": [
    {
     "name": "stdout",
     "output_type": "stream",
     "text": [
      "(1, 'Persona 1')\n",
      "(2, 'Persona 2')\n",
      "(3, 'Persona 3')\n",
      "(4, 'Persona 4')\n",
      "(5, 'Persona 5')\n",
      "(6, 'Persona 6')\n",
      "(10, 'Persona 10')\n"
     ]
    }
   ],
   "source": [
    "from BTrees.OOBTree import OOBTree\n",
    "\n",
    "class NodoBTree:\n",
    "    def __init__(self, _tupla, _siguiente=None):\n",
    "        self.tupla = _tupla\n",
    "        self.siguiente = _siguiente\n",
    "        \n",
    "    def __str__(self):\n",
    "        return f'{self.tupla}'\n",
    "     \n",
    "t_personas = OOBTree()\n",
    "\n",
    "for persona in Personas:\n",
    "    t_personas.update({ persona[0]: NodoBTree(persona) })\n",
    "\n",
    "# Tenemos que generar una lista con las llaves ordenadas \n",
    "# para poder encadenar las hojas\n",
    "llaves = list(t_personas.keys())\n",
    "llaves.sort()\n",
    "\n",
    "# Encadenamos las hojas\n",
    "for i in range(1, len(llaves)):\n",
    "    t_personas[llaves[i - 1]].siguiente = t_personas[llaves[i]]\n",
    "    \n",
    "# Recorremos el árbol partiendo por la primera persona\n",
    "persona_actual = t_personas[t_personas.minKey()]\n",
    "print(persona_actual)\n",
    "while persona_actual.siguiente:   \n",
    "    persona_actual = persona_actual.siguiente\n",
    "    print(persona_actual)"
   ]
  },
  {
   "cell_type": "markdown",
   "metadata": {},
   "source": [
    "Vamos a repetir el procedimiento para la relación, indexando en un árbol para el `id_persona`."
   ]
  },
  {
   "cell_type": "code",
   "execution_count": 6,
   "metadata": {},
   "outputs": [],
   "source": [
    "t_relacion = OOBTree()\n",
    "\n",
    "for elemento in Persona_Proyecto:\n",
    "    t_relacion.update({ elemento[0]: NodoBTree(elemento) })\n",
    "    \n",
    "# Tenemos que generar una lista con las llaves ordenadas \n",
    "# para poder encadenar las hojas\n",
    "llaves = list(t_relacion.keys())\n",
    "llaves.sort()\n",
    "\n",
    "# Encadenamos las hojas\n",
    "for i in range(1, len(llaves)):\n",
    "    t_relacion[llaves[i - 1]].siguiente = t_relacion[llaves[i]]\n",
    "    \n"
   ]
  },
  {
   "cell_type": "markdown",
   "metadata": {},
   "source": [
    "Mientras que los proyectos son indexados con un Hash"
   ]
  },
  {
   "cell_type": "code",
   "execution_count": 7,
   "metadata": {},
   "outputs": [
    {
     "name": "stdout",
     "output_type": "stream",
     "text": [
      "(1, 'Proyecto 1')\n",
      "(2, 'Proyecto 2')\n",
      "(3, 'Proyecto 3')\n"
     ]
    }
   ],
   "source": [
    "h_proyectos = dict()\n",
    "\n",
    "for proyecto in Proyectos:\n",
    "    h_proyectos[proyecto[0]] = proyecto\n",
    "    \n",
    "# Imprimimos los proyectos\n",
    "for p_key in h_proyectos.keys():\n",
    "    print(h_proyectos[p_key])"
   ]
  },
  {
   "cell_type": "markdown",
   "metadata": {},
   "source": [
    "Ahora escribiremos el algoritmo que hará el *join* entre las tres relaciones."
   ]
  },
  {
   "cell_type": "markdown",
   "metadata": {},
   "source": [
    "------\n",
    "# Actividad - Algoritmos Join\n",
    "\n",
    "## Esquema \n",
    "\n",
    "Para esta actividad trabajaremos con el siguiente esquema:\n",
    "\n",
    "* Usuarios(<u>id</u>, nombre)\n",
    "* Favoritos(<u>userId,movieId</u>)\n",
    "* Peliculas(movieId, title, genres)\n",
    "\n",
    "Estas tablas se encuentran en los archivos `usuarios.csv`, `favoritos.csv` y `peliculas.csv`, respectivamente. Hay dos versiones de esta base de datos, una pequeña y una grande, almacenadas en las carpetas `small` y `big` respectivamente.\n",
    "\n",
    "\n",
    "```\n",
    "SELECT usuarios.nombre, peliculas.titulo, favorito.rating \n",
    "FROM usuarios, peliculas, favoritos \n",
    "WHERE usuarios.id = favoritos.userId AND favoritos.movieID = peliculas.movieId\n",
    "```"
   ]
  },
  {
   "cell_type": "markdown",
   "metadata": {},
   "source": [
    "## Parte 1: Cargar y poblar árboles\n",
    "La primera parte será para poblar nuestras estrcturas con nuestros datos. En específico deberás realizar los siguiente:\n",
    "\n",
    "* Cargue los `csv` de acuerdo al esquema, para esta parte puedes usar simplemente los que se encuentran en la carpeta `small`.\n",
    "* Genere árboles para usuarios y ratings.\n",
    "* Genere un `Hash` para películas."
   ]
  },
  {
   "cell_type": "code",
   "execution_count": 8,
   "metadata": {},
   "outputs": [
    {
     "name": "stdout",
     "output_type": "stream",
     "text": [
      "favoritos.csv\n",
      "usuarios.csv\n",
      "movies.csv\n"
     ]
    }
   ],
   "source": [
    "# Código que carga los csv\n",
    "import inspect\n",
    "\n",
    "\n",
    "import os\n",
    "datos = dict()\n",
    "\n",
    "\n",
    "for archivo in os.listdir(\"small\"):\n",
    "    print(archivo)\n",
    "    \n",
    "movies = []\n",
    "archivo = \"movies.csv\"\n",
    "with open (f\"small/{archivo}\") as file:\n",
    "    file.__next__()\n",
    "    for line in file:\n",
    "        lista = line.rstrip().split(\",\")\n",
    "        movies.append((int(lista[0]),lista[1],lista[2]))\n",
    "        \n",
    "usuarios = []\n",
    "archivo = \"usuarios.csv\"\n",
    "with open (f\"small/{archivo}\") as file:\n",
    "    file.__next__()\n",
    "    for line in file:\n",
    "        lista = line.rstrip().split(\",\")\n",
    "        usuarios.append((int(lista[0]),lista[1]))\n",
    "        \n",
    "favoritos = []\n",
    "archivo = \"favoritos.csv\"\n",
    "with open (f\"small/{archivo}\") as file:\n",
    "    file.__next__()\n",
    "    for line in file:\n",
    "        lista = line.rstrip().split(\",\")\n",
    "        favoritos.append((int(lista[0]),int(lista[1])))\n"
   ]
  },
  {
   "cell_type": "code",
   "execution_count": 29,
   "metadata": {},
   "outputs": [],
   "source": [
    "\n",
    "\n",
    "def crear_arbol(tree,weas):\n",
    "    for wea in weas:\n",
    "        tree.update({ wea[0]: NodoBTree(wea) })\n",
    "    # Tenemos que generar una lista con las llaves ordenadas \n",
    "    # para poder encadenar las hojas\n",
    "    llaves = list(tree.keys())\n",
    "    llaves.sort()\n",
    "# Encadenamos las hojas\n",
    "    for i in range(1, len(llaves)):\n",
    "        tree[llaves[i - 1]].siguiente = tree[llaves[i]]\n",
    "def recorrer_arbol (tree):\n",
    "    actual = tree[tree.minKey()]\n",
    "    while actual.siguiente:\n",
    "        actual = actual.siguiente\n",
    "        print(actual)\n",
    "            \n",
    "t_movies = OOBTree()   \n",
    "crear_arbol (t_movies,movies)\n",
    "#recorrer (t_movies)\n",
    "t_usuarios = OOBTree()   \n",
    "crear_arbol (t_usuarios,usuarios)\n",
    "#recorrer (t_usuarios)\n",
    "t_favoritos = OOBTree()   \n",
    "crear_arbol (t_favoritos,favoritos)"
   ]
  },
  {
   "cell_type": "code",
   "execution_count": 42,
   "metadata": {},
   "outputs": [],
   "source": [
    "def hashear(weas):\n",
    "    h_weas = dict()\n",
    "    for wea in weas:\n",
    "        h_weas[wea[0]] = wea\n",
    "    return h_weas\n",
    "def recorrer_hash(h_weas,t_weas):\n",
    "    # Imprimimos los proyectos\n",
    "    for p_key in t_weas.keys():\n",
    "        \n",
    "        print(h_weas[p_key])\n",
    "h_movies = hashear (movies) \n",
    "h_usuarios = hashear (usuarios)\n",
    "h_favoritos = hashear (favoritos)\n",
    "\n",
    "\n"
   ]
  },
  {
   "cell_type": "markdown",
   "metadata": {},
   "source": [
    "## Parte 2: Algoritmos\n",
    "En esta parte, deberás ir programando los algoritmos necesarios para ejecutar la operación `Join` utilizando un BTree. En concreto esto es lo que deberás hacer.\n",
    "\n",
    "### Parte 2.1: Intersección\n",
    "Considera las dos listas definidas en el códogo a continuación. Estas listas representan dos relaciones unarias `R` y `S`. Escriba un algoritmo que imprima la intersección entre estas dos tablas, y que pase una sola vez por cada elemento."
   ]
  },
  {
   "cell_type": "code",
   "execution_count": null,
   "metadata": {},
   "outputs": [],
   "source": [
    "import time"
   ]
  },
  {
   "cell_type": "code",
   "execution_count": 9,
   "metadata": {},
   "outputs": [
    {
     "name": "stdout",
     "output_type": "stream",
     "text": [
      "[1, 2, 10]\n",
      "0.0004868507385253906\n"
     ]
    }
   ],
   "source": [
    "## opcion 1 \n",
    "time_init = time.time()\n",
    "R = [1, 2, 3, 6, 7, 10, 11, 12]\n",
    "S = [1, 2, 4, 8, 10, 13, 14]\n",
    "\n",
    "r=0\n",
    "s=0\n",
    "join = []\n",
    "while True:\n",
    "    if S[s] == R[r]:\n",
    "        join.append(S[s])\n",
    "        s += 1\n",
    "\n",
    "    elif S[s] < R[r]:\n",
    "        s += 1\n",
    "    elif R[r] < S[s]:\n",
    "        r+=1\n",
    "    if r == len(R) or s == len(S):\n",
    "        break\n",
    "time_fin = time.time()\n",
    "print(join)\n",
    "print(time_fin-time_init)\n"
   ]
  },
  {
   "cell_type": "code",
   "execution_count": 10,
   "metadata": {},
   "outputs": [
    {
     "name": "stdout",
     "output_type": "stream",
     "text": [
      "[1, 2, 10]\n",
      "0.0003409385681152344\n"
     ]
    }
   ],
   "source": [
    "## opcion 2\n",
    "time_init = time.time()\n",
    "R = [1, 2, 3, 6, 7, 10, 11, 12]\n",
    "S = [1, 2, 4, 8, 10, 13, 14]\n",
    "R = set(R)\n",
    "S = set(S) \n",
    "list(R.intersection(S))\n",
    "time_fin = time.time()\n",
    "print(join)\n",
    "print(time_fin-time_init)"
   ]
  },
  {
   "cell_type": "markdown",
   "metadata": {},
   "source": [
    "### Parte 2.2: Join entre dos relaciones\n",
    "\n",
    "Extienda el algoritmo anterior para hacer un `Join` entre usuarios y rating en `userId` que solo pase una vez por cada tupla de cada relación"
   ]
  },
  {
   "cell_type": "code",
   "execution_count": null,
   "metadata": {},
   "outputs": [],
   "source": [
    "# Código que genera un Join entr"
   ]
  },
  {
   "cell_type": "markdown",
   "metadata": {},
   "source": [
    "# Parte 3: Programando una consulta\n",
    "\n",
    "Ahora, extenderemos nuestros `Joins` programados para que tengan la capacidad de realizar consultas como en `sql`. Deberán poder realizar la siguiente consulta:\n",
    "\n",
    "```\n",
    "SELECT usuarios.nombre, favoritos.userId, favoritos.movieID, pelicula.titulos \n",
    "FROM usuarios, peliculas, favoritos \n",
    "WHERE usuarios.id = favoritos.userId AND favoritos.movieID = peliculas.movieId\n",
    "```\n",
    "\n",
    "Lo que deben programar es la funcion `join_tablas(usuarios,peliculas,favoritos)`, que reciba las tres estructuras creadas inicialmente (los árboles y el hash), y retorne una lista de de tuplas. \n",
    "Cada tupla debe ser de la forma `(nombre_usuario, userId, movieID, titulo_película)`. La idea es que se utilice el *hash join* para extender la información de cada pelicula con la que hace match."
   ]
  },
  {
   "cell_type": "code",
   "execution_count": null,
   "metadata": {},
   "outputs": [],
   "source": [
    "##Aquí deberían crear la función:\n",
    "def join_tablas(usuarios,peliculas,favoritos):\n",
    "    \n"
   ]
  },
  {
   "cell_type": "code",
   "execution_count": null,
   "metadata": {},
   "outputs": [],
   "source": [
    "# Sección para probar el output de su función\n",
    "\n",
    "# retorno_consulta = join_tablas(usuarios,peliculas,favoritos)\n",
    "# print(retorno_consulta)"
   ]
  },
  {
   "cell_type": "markdown",
   "metadata": {},
   "source": [
    "## Parte 4: Nested Loop Join\n",
    "\n",
    "Por último, en esta sección queremos que programen la misma consulta anterior pero con un *Nested Loop Join*. Su código debería verse de esta forma:\n",
    "\n",
    "```python\n",
    "for usuario in usuarios:\n",
    "    for favorito in favoritos: \n",
    "        for pelicula in peliculas: \n",
    "```\n",
    "\n",
    "Creen la función `nested_loop_join(usuarios, peliculas, favoritos)`. Esta función debería recibir una lista de usuarios, de películas y de favoritos. Debe retornar una lista de tuplas donde cada tupla debe ser de la forma `(nombre_usuario, userId, movieID, titulo_película)`.\n"
   ]
  },
  {
   "cell_type": "code",
   "execution_count": null,
   "metadata": {},
   "outputs": [],
   "source": [
    "# Aquí deberían crear la función:\n",
    "def nested_loop_join(usuarios,peliculas,favoritos):\n",
    "    for usuario in usuarios:\n",
    "        for favorito in favoritos: \n",
    "            for pelicula in pelicula:\n",
    "                \n"
   ]
  },
  {
   "cell_type": "markdown",
   "metadata": {},
   "source": [
    "# Parte 5: Discusión\n",
    "\n",
    "Para esta sección debes discutir dos cosas:\n",
    "\n",
    "1. Debes comparar el tiempo de ejecución que demora la función `nested_loop_join` con respecto a la función `join_tablas`. Primero debes considerar que los índices ya están creados para luego comparar los tiempos de ejecución considerando que tu *Join* primero crea los índices y después computa el resultado. Asegúrate de hacer este experimento con ambos datasets.\n",
    "\n",
    "2. Considerando el tiempo que demoran los índices en crearse, ¿Por qué crees que los sistemas de bases de datos usan estas técnicas basadas en índices para computar consultas?\n",
    "\n",
    "Para tomar el tiempo de ejecución, recuerden que puedes utilizar la librería `time` de `Python` 🐍."
   ]
  },
  {
   "cell_type": "code",
   "execution_count": null,
   "metadata": {},
   "outputs": [],
   "source": [
    "# Código y discusión\n",
    "# Pueden agregar todas las casillas que quieran para desarrollar esta parte"
   ]
  },
  {
   "cell_type": "code",
   "execution_count": null,
   "metadata": {},
   "outputs": [],
   "source": []
  }
 ],
 "metadata": {
  "kernelspec": {
   "display_name": "Python 3",
   "language": "python",
   "name": "python3"
  },
  "language_info": {
   "codemirror_mode": {
    "name": "ipython",
    "version": 3
   },
   "file_extension": ".py",
   "mimetype": "text/x-python",
   "name": "python",
   "nbconvert_exporter": "python",
   "pygments_lexer": "ipython3",
   "version": "3.7.4"
  }
 },
 "nbformat": 4,
 "nbformat_minor": 2
}
